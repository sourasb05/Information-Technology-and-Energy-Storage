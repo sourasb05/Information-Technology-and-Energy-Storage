{
 "cells": [
  {
   "cell_type": "markdown",
   "metadata": {},
   "source": [
    "# NumPy Tutorial: Basics for Machine Learning\n"
   ]
  },
  {
   "cell_type": "markdown",
   "metadata": {},
   "source": [
    "**NumPy** (short for Numerical Python) is a powerful open-source Python library used for numerical computing. It provides support for working with arrays, matrices, and a variety of mathematical functions to perform operations on these data structures efficiently. NumPy is a fundamental package for scientific computing in Python and serves as the base for many other libraries like Pandas, SciPy, and scikit-learn.\n",
    "\n",
    "### Key Features of NumPy:\n",
    "\n",
    "1. N-dimensional Array (ndarray):** \n",
    "\n",
    "- Core data structure of NumPy.\n",
    "- Provides efficient storage and operations for homogeneous data (all elements of the same type).\n",
    "\n",
    "2. Mathematical Functions:\n",
    "\n",
    "- Supports a wide range of mathematical operations, such as addition, subtraction, multiplication, division, trigonometry, and more.\n",
    "\n",
    "3. Broadcasting:\n",
    "\n",
    "- Enables operations on arrays of different shapes without requiring explicit loops.\n",
    "\n",
    "4. Linear Algebra:\n",
    "\n",
    "- Provides support for linear algebra operations such as matrix multiplication, eigenvalues, determinants, and solving linear equations.\n",
    "\n",
    "5. Random Number Generation:\n",
    "\n",
    "- Functions to generate random numbers, random samples, and perform random sampling.\n",
    "\n",
    "6. Efficient Performance:\n",
    "\n",
    "- Optimized for performance with implementations in C, allowing fast execution for large-scale numerical computations.\n",
    "\n",
    "### Why Use NumPy?\n",
    "\n",
    "- **Performance:** It is much faster than standard Python lists for numerical operations because of its optimized C implementation.\n",
    "\n",
    "- **Memory Efficiency:** Consumes less memory compared to Python lists for storing large datasets.\n",
    "\n",
    "- **Ease of Use:** Provides concise syntax for complex numerical operations.\n",
    "\n",
    "- **Compatibility:** Integrates seamlessly with other scientific libraries like Pandas, Matplotlib, and SciPy."
   ]
  },
  {
   "cell_type": "code",
   "execution_count": 1,
   "metadata": {},
   "outputs": [],
   "source": [
    "# Import the NumPy library\n",
    "import numpy as np\n"
   ]
  },
  {
   "cell_type": "markdown",
   "metadata": {},
   "source": [
    "### Creating Arrays"
   ]
  },
  {
   "cell_type": "code",
   "execution_count": 2,
   "metadata": {},
   "outputs": [
    {
     "name": "stdout",
     "output_type": "stream",
     "text": [
      "1D Array: [1 2 3 4 5]\n"
     ]
    }
   ],
   "source": [
    "# Create a 1D array\n",
    "array_1d = np.array([1, 2, 3, 4, 5])\n",
    "print(\"1D Array:\", array_1d)\n"
   ]
  },
  {
   "cell_type": "code",
   "execution_count": 3,
   "metadata": {},
   "outputs": [
    {
     "name": "stdout",
     "output_type": "stream",
     "text": [
      "\n",
      "2D Array:\n",
      "[[1 2 3]\n",
      " [4 5 6]]\n"
     ]
    }
   ],
   "source": [
    "# Create a 2D array\n",
    "array_2d = np.array([[1, 2, 3], [4, 5, 6]])\n",
    "print(\"\\n2D Array:\")\n",
    "print(array_2d)\n"
   ]
  },
  {
   "cell_type": "code",
   "execution_count": 4,
   "metadata": {},
   "outputs": [
    {
     "name": "stdout",
     "output_type": "stream",
     "text": [
      "\n",
      "Array of Zeros:\n",
      "[[0. 0. 0.]\n",
      " [0. 0. 0.]]\n"
     ]
    }
   ],
   "source": [
    "# Create an array with zeros\n",
    "zeros = np.zeros((2, 3))\n",
    "print(\"\\nArray of Zeros:\")\n",
    "print(zeros)"
   ]
  },
  {
   "cell_type": "code",
   "execution_count": 5,
   "metadata": {},
   "outputs": [
    {
     "name": "stdout",
     "output_type": "stream",
     "text": [
      "\n",
      "Array of Ones:\n",
      "[[1. 1.]\n",
      " [1. 1.]\n",
      " [1. 1.]]\n"
     ]
    }
   ],
   "source": [
    "\n",
    "# Create an array with ones\n",
    "ones = np.ones((3, 2))\n",
    "print(\"\\nArray of Ones:\")\n",
    "print(ones)"
   ]
  },
  {
   "cell_type": "code",
   "execution_count": 6,
   "metadata": {},
   "outputs": [
    {
     "name": "stdout",
     "output_type": "stream",
     "text": [
      "\n",
      "Array with a Range of Numbers: [0 2 4 6 8]\n"
     ]
    }
   ],
   "source": [
    "\n",
    "# Create an array with a range of numbers\n",
    "range_array = np.arange(0, 10, 2)\n",
    "print(\"\\nArray with a Range of Numbers:\", range_array)\n"
   ]
  },
  {
   "cell_type": "code",
   "execution_count": 7,
   "metadata": {},
   "outputs": [
    {
     "name": "stdout",
     "output_type": "stream",
     "text": [
      "\n",
      "Array with Evenly Spaced Numbers: [0.   0.25 0.5  0.75 1.  ]\n"
     ]
    }
   ],
   "source": [
    "# Create an array with evenly spaced numbers\n",
    "linspace_array = np.linspace(0, 1, 5)\n",
    "print(\"\\nArray with Evenly Spaced Numbers:\", linspace_array)\n"
   ]
  },
  {
   "cell_type": "markdown",
   "metadata": {},
   "source": [
    "### 2. Array Operations\n"
   ]
  },
  {
   "cell_type": "code",
   "execution_count": 8,
   "metadata": {},
   "outputs": [
    {
     "name": "stdout",
     "output_type": "stream",
     "text": [
      "\n",
      "Element-wise Addition: [ 6  7  8  9 10]\n"
     ]
    }
   ],
   "source": [
    "# Element-wise addition\n",
    "array_sum = array_1d + 5\n",
    "print(\"\\nElement-wise Addition:\", array_sum)\n"
   ]
  },
  {
   "cell_type": "code",
   "execution_count": 9,
   "metadata": {},
   "outputs": [
    {
     "name": "stdout",
     "output_type": "stream",
     "text": [
      "\n",
      "Element-wise Multiplication: [ 2  4  6  8 10]\n"
     ]
    }
   ],
   "source": [
    "# Element-wise multiplication\n",
    "array_mult = array_1d * 2\n",
    "print(\"\\nElement-wise Multiplication:\", array_mult)\n"
   ]
  },
  {
   "cell_type": "code",
   "execution_count": 10,
   "metadata": {},
   "outputs": [
    {
     "name": "stdout",
     "output_type": "stream",
     "text": [
      "\n",
      "Element-wise Square: [ 1  4  9 16 25]\n"
     ]
    }
   ],
   "source": [
    "\n",
    "\n",
    "# Element-wise square\n",
    "array_square = array_1d ** 2\n",
    "print(\"\\nElement-wise Square:\", array_square)"
   ]
  },
  {
   "cell_type": "code",
   "execution_count": 11,
   "metadata": {},
   "outputs": [
    {
     "name": "stdout",
     "output_type": "stream",
     "text": [
      "\n",
      "Element-wise Division: [0.5 1.  1.5 2.  2.5]\n"
     ]
    }
   ],
   "source": [
    "\n",
    "# Element-wise division\n",
    "array_div = array_1d / 2\n",
    "print(\"\\nElement-wise Division:\", array_div)"
   ]
  },
  {
   "cell_type": "code",
   "execution_count": 12,
   "metadata": {},
   "outputs": [
    {
     "name": "stdout",
     "output_type": "stream",
     "text": [
      "\n",
      "First Element of 1D Array: 1\n"
     ]
    }
   ],
   "source": [
    "# Accessing an element\n",
    "print(\"\\nFirst Element of 1D Array:\", array_1d[0])\n"
   ]
  },
  {
   "cell_type": "code",
   "execution_count": 13,
   "metadata": {},
   "outputs": [
    {
     "name": "stdout",
     "output_type": "stream",
     "text": [
      "\n",
      "Slice 1D Array [1:4]: [2 3 4]\n"
     ]
    }
   ],
   "source": [
    "# Slicing\n",
    "print(\"\\nSlice 1D Array [1:4]:\", array_1d[1:4])\n"
   ]
  },
  {
   "cell_type": "code",
   "execution_count": 14,
   "metadata": {},
   "outputs": [
    {
     "name": "stdout",
     "output_type": "stream",
     "text": [
      "\n",
      "Element at (0, 1) in 2D Array: 2\n"
     ]
    }
   ],
   "source": [
    "# Accessing elements in 2D arrays\n",
    "print(\"\\nElement at (0, 1) in 2D Array:\", array_2d[0, 1])\n"
   ]
  },
  {
   "cell_type": "code",
   "execution_count": 15,
   "metadata": {},
   "outputs": [
    {
     "name": "stdout",
     "output_type": "stream",
     "text": [
      "\n",
      "Boolean Indexing (Array > 3): [False False False  True  True]\n",
      "Filtered Elements: [4 5]\n"
     ]
    }
   ],
   "source": [
    "\n",
    "# Boolean indexing\n",
    "bool_idx = array_1d > 3\n",
    "print(\"\\nBoolean Indexing (Array > 3):\", bool_idx)\n",
    "print(\"Filtered Elements:\", array_1d[bool_idx])\n"
   ]
  },
  {
   "cell_type": "markdown",
   "metadata": {},
   "source": [
    "### 3. Array Properties"
   ]
  },
  {
   "cell_type": "code",
   "execution_count": 16,
   "metadata": {},
   "outputs": [
    {
     "name": "stdout",
     "output_type": "stream",
     "text": [
      "\n",
      "Shape of 2D Array: (2, 3)\n",
      "Number of Dimensions: 2\n",
      "Data Type: int64\n",
      "Size of Array: 6\n"
     ]
    }
   ],
   "source": [
    "\n",
    "\n",
    "print(\"\\nShape of 2D Array:\", array_2d.shape)\n",
    "print(\"Number of Dimensions:\", array_2d.ndim)\n",
    "print(\"Data Type:\", array_2d.dtype)\n",
    "print(\"Size of Array:\", array_2d.size)\n"
   ]
  },
  {
   "cell_type": "markdown",
   "metadata": {},
   "source": [
    "### 4. Reshaping Arrays"
   ]
  },
  {
   "cell_type": "code",
   "execution_count": 17,
   "metadata": {},
   "outputs": [
    {
     "name": "stdout",
     "output_type": "stream",
     "text": [
      "\n",
      "Reshaped Array:\n",
      "[[1 2 3 4 5]]\n"
     ]
    }
   ],
   "source": [
    "\n",
    "\n",
    "reshaped_array = array_1d.reshape((1, 5))\n",
    "print(\"\\nReshaped Array:\")\n",
    "print(reshaped_array)\n"
   ]
  },
  {
   "cell_type": "markdown",
   "metadata": {},
   "source": [
    "### 5. Flattening an array\n"
   ]
  },
  {
   "cell_type": "code",
   "execution_count": 18,
   "metadata": {},
   "outputs": [
    {
     "name": "stdout",
     "output_type": "stream",
     "text": [
      "\n",
      "Flattened Array: [1 2 3 4 5 6]\n"
     ]
    }
   ],
   "source": [
    "flattened = array_2d.flatten()\n",
    "print(\"\\nFlattened Array:\", flattened)\n"
   ]
  },
  {
   "cell_type": "markdown",
   "metadata": {},
   "source": [
    "\n",
    "### 6. Mathematical Functions\n"
   ]
  },
  {
   "cell_type": "code",
   "execution_count": 20,
   "metadata": {},
   "outputs": [
    {
     "name": "stdout",
     "output_type": "stream",
     "text": [
      "\n",
      "Mean: 3.0\n"
     ]
    }
   ],
   "source": [
    "# Calculate the mean\n",
    "mean_value = np.mean(array_1d)\n",
    "print(\"\\nMean:\", mean_value)\n"
   ]
  },
  {
   "cell_type": "code",
   "execution_count": 21,
   "metadata": {},
   "outputs": [
    {
     "name": "stdout",
     "output_type": "stream",
     "text": [
      "Standard Deviation: 1.4142135623730951\n"
     ]
    }
   ],
   "source": [
    "\n",
    "# Calculate the standard deviation\n",
    "std_value = np.std(array_1d)\n",
    "print(\"Standard Deviation:\", std_value)\n",
    "\n",
    "\n"
   ]
  },
  {
   "cell_type": "code",
   "execution_count": 22,
   "metadata": {},
   "outputs": [
    {
     "name": "stdout",
     "output_type": "stream",
     "text": [
      "Maximum Value: 5\n",
      "Minimum Value: 1\n"
     ]
    }
   ],
   "source": [
    "# Find the maximum and minimum\n",
    "max_value = np.max(array_1d)\n",
    "min_value = np.min(array_1d)\n",
    "print(\"Maximum Value:\", max_value)\n",
    "print(\"Minimum Value:\", min_value)\n",
    "\n"
   ]
  },
  {
   "cell_type": "code",
   "execution_count": 23,
   "metadata": {},
   "outputs": [
    {
     "name": "stdout",
     "output_type": "stream",
     "text": [
      "Sum of Elements: 15\n"
     ]
    }
   ],
   "source": [
    "# Sum of all elements\n",
    "sum_value = np.sum(array_1d)\n",
    "print(\"Sum of Elements:\", sum_value)"
   ]
  },
  {
   "cell_type": "markdown",
   "metadata": {},
   "source": [
    "### 7. Random Number Generation"
   ]
  },
  {
   "cell_type": "code",
   "execution_count": 26,
   "metadata": {},
   "outputs": [
    {
     "name": "stdout",
     "output_type": "stream",
     "text": [
      "\n",
      "Random Array:\n",
      "[[0.59865848 0.15601864 0.15599452]\n",
      " [0.05808361 0.86617615 0.60111501]\n",
      " [0.70807258 0.02058449 0.96990985]]\n"
     ]
    }
   ],
   "source": [
    "\n",
    "random_array = np.random.rand(3, 3)\n",
    "print(\"\\nRandom Array:\")\n",
    "print(random_array)"
   ]
  },
  {
   "cell_type": "code",
   "execution_count": 27,
   "metadata": {},
   "outputs": [
    {
     "name": "stdout",
     "output_type": "stream",
     "text": [
      "\n",
      "Random Integers Array:\n",
      "[[5 1 4]\n",
      " [0 9 5]\n",
      " [8 0 9]]\n"
     ]
    }
   ],
   "source": [
    "\n",
    "# Generate random integers\n",
    "random_integers = np.random.randint(0, 10, (3, 3))\n",
    "print(\"\\nRandom Integers Array:\")\n",
    "print(random_integers)\n"
   ]
  },
  {
   "cell_type": "code",
   "execution_count": 28,
   "metadata": {},
   "outputs": [
    {
     "name": "stdout",
     "output_type": "stream",
     "text": [
      "\n",
      "Seeded Random Array: [0.37454012 0.95071431 0.73199394]\n"
     ]
    }
   ],
   "source": [
    "\n",
    "\n",
    "\n",
    "# Set a seed for reproducibility\n",
    "np.random.seed(42)\n",
    "seeded_random = np.random.rand(3)\n",
    "print(\"\\nSeeded Random Array:\", seeded_random)"
   ]
  },
  {
   "cell_type": "markdown",
   "metadata": {},
   "source": [
    "### 8. Matrix Operations"
   ]
  },
  {
   "cell_type": "code",
   "execution_count": 29,
   "metadata": {},
   "outputs": [
    {
     "name": "stdout",
     "output_type": "stream",
     "text": [
      "\n",
      "Matrix Product (using np.dot):\n",
      "[[19 22]\n",
      " [43 50]]\n"
     ]
    }
   ],
   "source": [
    "# Matrix multiplication using np.dot\n",
    "matrix_a = np.array([[1, 2], [3, 4]])\n",
    "matrix_b = np.array([[5, 6], [7, 8]])\n",
    "matrix_product = np.dot(matrix_a, matrix_b)\n",
    "print(\"\\nMatrix Product (using np.dot):\")\n",
    "print(matrix_product)"
   ]
  },
  {
   "cell_type": "code",
   "execution_count": 30,
   "metadata": {},
   "outputs": [
    {
     "name": "stdout",
     "output_type": "stream",
     "text": [
      "\n",
      "Matrix Product (using @ operator):\n",
      "[[19 22]\n",
      " [43 50]]\n"
     ]
    }
   ],
   "source": [
    "# Matrix multiplication using @ operator\n",
    "matrix_product_at = matrix_a @ matrix_b\n",
    "print(\"\\nMatrix Product (using @ operator):\")\n",
    "print(matrix_product_at)\n"
   ]
  },
  {
   "cell_type": "code",
   "execution_count": 31,
   "metadata": {},
   "outputs": [
    {
     "name": "stdout",
     "output_type": "stream",
     "text": [
      "\n",
      "Transpose of Matrix A:\n",
      "[[1 3]\n",
      " [2 4]]\n"
     ]
    }
   ],
   "source": [
    "# Transpose of a matrix\n",
    "matrix_transpose = matrix_a.T\n",
    "print(\"\\nTranspose of Matrix A:\")\n",
    "print(matrix_transpose)\n"
   ]
  },
  {
   "cell_type": "code",
   "execution_count": 32,
   "metadata": {},
   "outputs": [
    {
     "name": "stdout",
     "output_type": "stream",
     "text": [
      "\n",
      "Inverse of Matrix:\n",
      "[[-2.   1. ]\n",
      " [ 1.5 -0.5]]\n"
     ]
    }
   ],
   "source": [
    "# Inverse of a matrix\n",
    "matrix_square = np.array([[1, 2], [3, 4]])\n",
    "matrix_inverse = np.linalg.inv(matrix_square)\n",
    "print(\"\\nInverse of Matrix:\")\n",
    "print(matrix_inverse)\n"
   ]
  },
  {
   "cell_type": "code",
   "execution_count": 33,
   "metadata": {},
   "outputs": [
    {
     "name": "stdout",
     "output_type": "stream",
     "text": [
      "\n",
      "Determinant of Matrix: -2.0000000000000004\n"
     ]
    }
   ],
   "source": [
    "# Determinant of a matrix\n",
    "matrix_determinant = np.linalg.det(matrix_square)\n",
    "print(\"\\nDeterminant of Matrix:\", matrix_determinant)"
   ]
  },
  {
   "cell_type": "markdown",
   "metadata": {},
   "source": [
    "### 9. Logical Operations"
   ]
  },
  {
   "cell_type": "code",
   "execution_count": 34,
   "metadata": {},
   "outputs": [
    {
     "name": "stdout",
     "output_type": "stream",
     "text": [
      "\n",
      "Logical Operation (Array > 3):\n",
      "[False False False  True  True]\n"
     ]
    }
   ],
   "source": [
    "\n",
    "logical_array = array_1d > 3\n",
    "print(\"\\nLogical Operation (Array > 3):\")\n",
    "print(logical_array)\n"
   ]
  },
  {
   "cell_type": "code",
   "execution_count": 35,
   "metadata": {},
   "outputs": [
    {
     "name": "stdout",
     "output_type": "stream",
     "text": [
      "\n",
      "All Elements > 0: True\n"
     ]
    }
   ],
   "source": [
    "\n",
    "# Check if all elements satisfy a condition\n",
    "all_condition = np.all(array_1d > 0)\n",
    "print(\"\\nAll Elements > 0:\", all_condition)"
   ]
  },
  {
   "cell_type": "code",
   "execution_count": 36,
   "metadata": {},
   "outputs": [
    {
     "name": "stdout",
     "output_type": "stream",
     "text": [
      "Any Element > 4: True\n"
     ]
    }
   ],
   "source": [
    "# Check if any element satisfies a condition\n",
    "any_condition = np.any(array_1d > 4)\n",
    "print(\"Any Element > 4:\", any_condition)"
   ]
  },
  {
   "cell_type": "markdown",
   "metadata": {},
   "source": [
    "\n",
    "# 10. Broadcasting\n"
   ]
  },
  {
   "cell_type": "code",
   "execution_count": 37,
   "metadata": {},
   "outputs": [
    {
     "name": "stdout",
     "output_type": "stream",
     "text": [
      "\n",
      "Broadcast Addition:\n",
      "[[ 6  7  8]\n",
      " [ 9 10 11]]\n"
     ]
    }
   ],
   "source": [
    "# Add a scalar to a 2D array\n",
    "broadcast_add = array_2d + 5\n",
    "print(\"\\nBroadcast Addition:\")\n",
    "print(broadcast_add)"
   ]
  },
  {
   "cell_type": "code",
   "execution_count": 38,
   "metadata": {},
   "outputs": [
    {
     "name": "stdout",
     "output_type": "stream",
     "text": [
      "\n",
      "Broadcast Multiplication:\n",
      "[[ 1  4  9]\n",
      " [ 4 10 18]]\n"
     ]
    }
   ],
   "source": [
    "# Multiply a 1D array with a 2D array\n",
    "broadcast_mult = array_2d * array_1d[:3]\n",
    "print(\"\\nBroadcast Multiplication:\")\n",
    "print(broadcast_mult)\n"
   ]
  },
  {
   "cell_type": "markdown",
   "metadata": {},
   "source": [
    "### 11. Saving and Loading Arrays"
   ]
  },
  {
   "cell_type": "code",
   "execution_count": 39,
   "metadata": {},
   "outputs": [
    {
     "name": "stdout",
     "output_type": "stream",
     "text": [
      "\n",
      "Array saved to 'array_file.npy'\n"
     ]
    }
   ],
   "source": [
    "\n",
    "# Save an array to a file\n",
    "np.save(\"array_file.npy\", array_1d)\n",
    "print(\"\\nArray saved to 'array_file.npy'\")"
   ]
  },
  {
   "cell_type": "code",
   "execution_count": 40,
   "metadata": {},
   "outputs": [
    {
     "name": "stdout",
     "output_type": "stream",
     "text": [
      "Loaded Array: [1 2 3 4 5]\n"
     ]
    }
   ],
   "source": [
    "# Load an array from a file\n",
    "loaded_array = np.load(\"array_file.npy\")\n",
    "print(\"Loaded Array:\", loaded_array)"
   ]
  },
  {
   "cell_type": "code",
   "execution_count": 41,
   "metadata": {},
   "outputs": [
    {
     "name": "stdout",
     "output_type": "stream",
     "text": [
      "\n",
      "Array saved to 'array_file.txt'\n"
     ]
    }
   ],
   "source": [
    "# Save to a text file\n",
    "np.savetxt(\"array_file.txt\", array_2d, delimiter=\",\")\n",
    "print(\"\\nArray saved to 'array_file.txt'\")"
   ]
  },
  {
   "cell_type": "code",
   "execution_count": 42,
   "metadata": {},
   "outputs": [
    {
     "name": "stdout",
     "output_type": "stream",
     "text": [
      "Loaded Text Array:\n",
      "[[1. 2. 3.]\n",
      " [4. 5. 6.]]\n"
     ]
    }
   ],
   "source": [
    "# Load from a text file\n",
    "loaded_text_array = np.loadtxt(\"array_file.txt\", delimiter=\",\")\n",
    "print(\"Loaded Text Array:\")\n",
    "print(loaded_text_array)"
   ]
  },
  {
   "cell_type": "markdown",
   "metadata": {},
   "source": [
    "### 12.  Indexing\n"
   ]
  },
  {
   "cell_type": "code",
   "execution_count": 43,
   "metadata": {},
   "outputs": [
    {
     "name": "stdout",
     "output_type": "stream",
     "text": [
      "\n",
      "Indexing Result: [1 3 5]\n"
     ]
    }
   ],
   "source": [
    "# Indexing with arrays\n",
    "indices = [0, 2, 4]\n",
    "print(\"\\nIndexing Result:\", array_1d[indices])"
   ]
  },
  {
   "cell_type": "code",
   "execution_count": 44,
   "metadata": {},
   "outputs": [
    {
     "name": "stdout",
     "output_type": "stream",
     "text": [
      "\n",
      "Boolean Indexing Result: [4 5]\n"
     ]
    }
   ],
   "source": [
    "# Boolean indexing\n",
    "bool_idx = array_1d > 3\n",
    "print(\"\\nBoolean Indexing Result:\", array_1d[bool_idx])"
   ]
  },
  {
   "cell_type": "code",
   "execution_count": 45,
   "metadata": {},
   "outputs": [
    {
     "name": "stdout",
     "output_type": "stream",
     "text": [
      "\n",
      "Fancy Indexing Result: [1 3 5]\n"
     ]
    }
   ],
   "source": [
    "# Fancy indexing\n",
    "fancy_idx = np.array([0, 2, 4])\n",
    "print(\"\\nFancy Indexing Result:\", array_1d[fancy_idx])\n"
   ]
  }
 ],
 "metadata": {
  "kernelspec": {
   "display_name": "vinnova",
   "language": "python",
   "name": "python3"
  },
  "language_info": {
   "codemirror_mode": {
    "name": "ipython",
    "version": 3
   },
   "file_extension": ".py",
   "mimetype": "text/x-python",
   "name": "python",
   "nbconvert_exporter": "python",
   "pygments_lexer": "ipython3",
   "version": "3.9.21"
  }
 },
 "nbformat": 4,
 "nbformat_minor": 2
}
