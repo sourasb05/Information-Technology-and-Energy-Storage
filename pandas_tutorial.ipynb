{
 "cells": [
  {
   "cell_type": "markdown",
   "metadata": {},
   "source": [
    "# Pandas Tutorial: Basics for Data Analysis\n"
   ]
  },
  {
   "cell_type": "code",
   "execution_count": 1,
   "metadata": {},
   "outputs": [],
   "source": [
    "\n",
    "# Import the Pandas library\n",
    "import pandas as pd"
   ]
  },
  {
   "cell_type": "code",
   "execution_count": 2,
   "metadata": {},
   "outputs": [
    {
     "name": "stdout",
     "output_type": "stream",
     "text": [
      "DataFrame from Dictionary:\n",
      "      Name  Age  Salary\n",
      "0    Alice   25   50000\n",
      "1      Bob   30   60000\n",
      "2  Charlie   35   70000\n",
      "3    David   40   80000\n"
     ]
    }
   ],
   "source": [
    "# 1. Creating DataFrames\n",
    "# Creating a DataFrame from a dictionary\n",
    "data = {\n",
    "    'Name': ['Alice', 'Bob', 'Charlie', 'David'],\n",
    "    'Age': [25, 30, 35, 40],\n",
    "    'Salary': [50000, 60000, 70000, 80000]\n",
    "}\n",
    "df = pd.DataFrame(data)\n",
    "print(\"DataFrame from Dictionary:\")\n",
    "print(df)"
   ]
  },
  {
   "cell_type": "code",
   "execution_count": 3,
   "metadata": {},
   "outputs": [
    {
     "name": "stdout",
     "output_type": "stream",
     "text": [
      "\n",
      "DataFrame from List of Lists:\n",
      "   ID     Name  Age\n",
      "0   1    Alice   25\n",
      "1   2      Bob   30\n",
      "2   3  Charlie   35\n"
     ]
    }
   ],
   "source": [
    "# Creating a DataFrame from a list of lists\n",
    "data_list = [[1, 'Alice', 25], [2, 'Bob', 30], [3, 'Charlie', 35]]\n",
    "columns = ['ID', 'Name', 'Age']\n",
    "df_list = pd.DataFrame(data_list, columns=columns)\n",
    "print(\"\\nDataFrame from List of Lists:\")\n",
    "print(df_list)\n"
   ]
  },
  {
   "cell_type": "code",
   "execution_count": 4,
   "metadata": {},
   "outputs": [
    {
     "name": "stdout",
     "output_type": "stream",
     "text": [
      "\n",
      "DataFrame saved to 'output.csv'\n"
     ]
    }
   ],
   "source": [
    "\n",
    "# Writing to a CSV file\n",
    "df.to_csv('output.csv', index=False)\n",
    "print(\"\\nDataFrame saved to 'output.csv'\")"
   ]
  },
  {
   "cell_type": "code",
   "execution_count": 5,
   "metadata": {},
   "outputs": [
    {
     "name": "stdout",
     "output_type": "stream",
     "text": [
      "\n",
      "DataFrame from CSV:\n",
      "      Name  Age  Salary\n",
      "0    Alice   25   50000\n",
      "1      Bob   30   60000\n",
      "2  Charlie   35   70000\n",
      "3    David   40   80000\n"
     ]
    }
   ],
   "source": [
    "# 2. Reading and Writing Data\n",
    "# Reading a CSV file (ensure a valid CSV file path)\n",
    "# Uncomment the line below and provide a valid file path\n",
    "df_csv = pd.read_csv('output.csv')\n",
    "print(\"\\nDataFrame from CSV:\")\n",
    "print(df_csv)"
   ]
  },
  {
   "cell_type": "code",
   "execution_count": 6,
   "metadata": {},
   "outputs": [
    {
     "name": "stdout",
     "output_type": "stream",
     "text": [
      "\n",
      "First 2 Rows of DataFrame:\n",
      "    Name  Age  Salary\n",
      "0  Alice   25   50000\n",
      "1    Bob   30   60000\n"
     ]
    }
   ],
   "source": [
    "# 3. Inspecting Data\n",
    "print(\"\\nFirst 2 Rows of DataFrame:\")\n",
    "print(df.head(2))\n"
   ]
  },
  {
   "cell_type": "code",
   "execution_count": 7,
   "metadata": {},
   "outputs": [
    {
     "name": "stdout",
     "output_type": "stream",
     "text": [
      "\n",
      "Last 2 Rows of DataFrame:\n",
      "      Name  Age  Salary\n",
      "2  Charlie   35   70000\n",
      "3    David   40   80000\n"
     ]
    }
   ],
   "source": [
    "print(\"\\nLast 2 Rows of DataFrame:\")\n",
    "print(df.tail(2))"
   ]
  },
  {
   "cell_type": "code",
   "execution_count": 8,
   "metadata": {},
   "outputs": [
    {
     "name": "stdout",
     "output_type": "stream",
     "text": [
      "\n",
      "DataFrame Info:\n",
      "<class 'pandas.core.frame.DataFrame'>\n",
      "RangeIndex: 4 entries, 0 to 3\n",
      "Data columns (total 3 columns):\n",
      " #   Column  Non-Null Count  Dtype \n",
      "---  ------  --------------  ----- \n",
      " 0   Name    4 non-null      object\n",
      " 1   Age     4 non-null      int64 \n",
      " 2   Salary  4 non-null      int64 \n",
      "dtypes: int64(2), object(1)\n",
      "memory usage: 224.0+ bytes\n"
     ]
    }
   ],
   "source": [
    "\n",
    "print(\"\\nDataFrame Info:\")\n",
    "df.info()\n"
   ]
  },
  {
   "cell_type": "code",
   "execution_count": 9,
   "metadata": {},
   "outputs": [
    {
     "name": "stdout",
     "output_type": "stream",
     "text": [
      "\n",
      "DataFrame Summary Statistics:\n",
      "             Age        Salary\n",
      "count   4.000000      4.000000\n",
      "mean   32.500000  65000.000000\n",
      "std     6.454972  12909.944487\n",
      "min    25.000000  50000.000000\n",
      "25%    28.750000  57500.000000\n",
      "50%    32.500000  65000.000000\n",
      "75%    36.250000  72500.000000\n",
      "max    40.000000  80000.000000\n"
     ]
    }
   ],
   "source": [
    "print(\"\\nDataFrame Summary Statistics:\")\n",
    "print(df.describe())\n"
   ]
  },
  {
   "cell_type": "code",
   "execution_count": 10,
   "metadata": {},
   "outputs": [
    {
     "name": "stdout",
     "output_type": "stream",
     "text": [
      "\n",
      "Selecting 'Name' Column:\n",
      "0      Alice\n",
      "1        Bob\n",
      "2    Charlie\n",
      "3      David\n",
      "Name: Name, dtype: object\n"
     ]
    }
   ],
   "source": [
    "# 4. Selecting and Filtering Data\n",
    "# Selecting a single column\n",
    "print(\"\\nSelecting 'Name' Column:\")\n",
    "print(df['Name'])"
   ]
  },
  {
   "cell_type": "code",
   "execution_count": 11,
   "metadata": {},
   "outputs": [
    {
     "name": "stdout",
     "output_type": "stream",
     "text": [
      "\n",
      "Selecting 'Name' and 'Salary' Columns:\n",
      "      Name  Salary\n",
      "0    Alice   50000\n",
      "1      Bob   60000\n",
      "2  Charlie   70000\n",
      "3    David   80000\n"
     ]
    }
   ],
   "source": [
    "# Selecting multiple columns\n",
    "print(\"\\nSelecting 'Name' and 'Salary' Columns:\")\n",
    "print(df[['Name', 'Salary']])"
   ]
  },
  {
   "cell_type": "code",
   "execution_count": 12,
   "metadata": {},
   "outputs": [
    {
     "name": "stdout",
     "output_type": "stream",
     "text": [
      "\n",
      "Filtering Rows where Age > 30:\n",
      "      Name  Age  Salary\n",
      "2  Charlie   35   70000\n",
      "3    David   40   80000\n"
     ]
    }
   ],
   "source": [
    "\n",
    "# Filtering rows based on a condition\n",
    "print(\"\\nFiltering Rows where Age > 30:\")\n",
    "print(df[df['Age'] > 30])\n"
   ]
  },
  {
   "cell_type": "code",
   "execution_count": 13,
   "metadata": {},
   "outputs": [
    {
     "name": "stdout",
     "output_type": "stream",
     "text": [
      "\n",
      "Filtering Rows where Age > 30 and Salary > 60000:\n",
      "      Name  Age  Salary\n",
      "2  Charlie   35   70000\n",
      "3    David   40   80000\n"
     ]
    }
   ],
   "source": [
    "# Filtering with multiple conditions\n",
    "print(\"\\nFiltering Rows where Age > 30 and Salary > 60000:\")\n",
    "print(df[(df['Age'] > 30) & (df['Salary'] > 60000)])"
   ]
  },
  {
   "cell_type": "code",
   "execution_count": 14,
   "metadata": {},
   "outputs": [
    {
     "name": "stdout",
     "output_type": "stream",
     "text": [
      "\n",
      "DataFrame with Bonus Column:\n",
      "      Name  Age  Salary   Bonus\n",
      "0    Alice   25   50000  5000.0\n",
      "1      Bob   30   60000  6000.0\n",
      "2  Charlie   35   70000  7000.0\n",
      "3    David   40   80000  8000.0\n"
     ]
    }
   ],
   "source": [
    "# 5. Adding and Modifying Columns\n",
    "# Adding a new column\n",
    "df['Bonus'] = df['Salary'] * 0.1\n",
    "print(\"\\nDataFrame with Bonus Column:\")\n",
    "print(df)\n"
   ]
  },
  {
   "cell_type": "code",
   "execution_count": 15,
   "metadata": {},
   "outputs": [
    {
     "name": "stdout",
     "output_type": "stream",
     "text": [
      "\n",
      "Updated Salary Column:\n",
      "      Name  Age  Salary   Bonus\n",
      "0    Alice   25   55000  5000.0\n",
      "1      Bob   30   65000  6000.0\n",
      "2  Charlie   35   75000  7000.0\n",
      "3    David   40   85000  8000.0\n"
     ]
    }
   ],
   "source": [
    "# Modifying an existing column\n",
    "df['Salary'] = df['Salary'] + 5000\n",
    "print(\"\\nUpdated Salary Column:\")\n",
    "print(df)\n"
   ]
  },
  {
   "cell_type": "code",
   "execution_count": 16,
   "metadata": {},
   "outputs": [
    {
     "name": "stdout",
     "output_type": "stream",
     "text": [
      "\n",
      "Renamed Columns:\n",
      "  Employee Name  Age  Total Salary   Bonus\n",
      "0         Alice   25         55000  5000.0\n",
      "1           Bob   30         65000  6000.0\n",
      "2       Charlie   35         75000  7000.0\n",
      "3         David   40         85000  8000.0\n"
     ]
    }
   ],
   "source": [
    "# Renaming columns\n",
    "df.rename(columns={'Name': 'Employee Name', 'Salary': 'Total Salary'}, inplace=True)\n",
    "print(\"\\nRenamed Columns:\")\n",
    "print(df)\n"
   ]
  },
  {
   "cell_type": "code",
   "execution_count": 17,
   "metadata": {},
   "outputs": [
    {
     "name": "stdout",
     "output_type": "stream",
     "text": [
      "\n",
      "DataFrame after Dropping Bonus Column:\n",
      "  Employee Name  Age  Total Salary\n",
      "0         Alice   25         55000\n",
      "1           Bob   30         65000\n",
      "2       Charlie   35         75000\n",
      "3         David   40         85000\n"
     ]
    }
   ],
   "source": [
    "\n",
    "# Dropping a column\n",
    "df.drop(columns=['Bonus'], inplace=True)\n",
    "print(\"\\nDataFrame after Dropping Bonus Column:\")\n",
    "print(df)"
   ]
  },
  {
   "cell_type": "code",
   "execution_count": 18,
   "metadata": {},
   "outputs": [
    {
     "name": "stdout",
     "output_type": "stream",
     "text": [
      "\n",
      "DataFrame with Missing Values:\n",
      "    Name   Age   Salary\n",
      "0  Alice  25.0  50000.0\n",
      "1    Bob   NaN  60000.0\n",
      "2   None  35.0      NaN\n",
      "3  David  40.0  80000.0\n"
     ]
    }
   ],
   "source": [
    "# 6. Handling Missing Data\n",
    "# Creating a DataFrame with missing values\n",
    "data_with_nan = {\n",
    "    'Name': ['Alice', 'Bob', None, 'David'],\n",
    "    'Age': [25, None, 35, 40],\n",
    "    'Salary': [50000, 60000, None, 80000]\n",
    "}\n",
    "df_nan = pd.DataFrame(data_with_nan)\n",
    "print(\"\\nDataFrame with Missing Values:\")\n",
    "print(df_nan)\n"
   ]
  },
  {
   "cell_type": "code",
   "execution_count": 19,
   "metadata": {},
   "outputs": [
    {
     "name": "stdout",
     "output_type": "stream",
     "text": [
      "\n",
      "Filled Missing Values:\n",
      "    Name        Age   Salary\n",
      "0  Alice  25.000000  50000.0\n",
      "1    Bob  33.333333  60000.0\n",
      "2   None  35.000000      0.0\n",
      "3  David  40.000000  80000.0\n"
     ]
    }
   ],
   "source": [
    "\n",
    "# Filling missing values\n",
    "df_nan_filled = df_nan.fillna({'Age': df_nan['Age'].mean(), 'Salary': 0})\n",
    "print(\"\\nFilled Missing Values:\")\n",
    "print(df_nan_filled)\n"
   ]
  },
  {
   "cell_type": "code",
   "execution_count": 20,
   "metadata": {},
   "outputs": [
    {
     "name": "stdout",
     "output_type": "stream",
     "text": [
      "\n",
      "Dropped Rows with Missing Values:\n",
      "    Name   Age   Salary\n",
      "0  Alice  25.0  50000.0\n",
      "3  David  40.0  80000.0\n"
     ]
    }
   ],
   "source": [
    "# Dropping rows with missing values\n",
    "df_nan_dropped = df_nan.dropna()\n",
    "print(\"\\nDropped Rows with Missing Values:\")\n",
    "print(df_nan_dropped)"
   ]
  },
  {
   "cell_type": "code",
   "execution_count": 21,
   "metadata": {},
   "outputs": [
    {
     "name": "stdout",
     "output_type": "stream",
     "text": [
      "\n",
      "Missing Values in DataFrame:\n",
      "Name      1\n",
      "Age       1\n",
      "Salary    1\n",
      "dtype: int64\n"
     ]
    }
   ],
   "source": [
    "# Checking for missing values\n",
    "print(\"\\nMissing Values in DataFrame:\")\n",
    "print(df_nan.isnull().sum())"
   ]
  },
  {
   "cell_type": "code",
   "execution_count": 22,
   "metadata": {},
   "outputs": [
    {
     "name": "stdout",
     "output_type": "stream",
     "text": [
      "\n",
      "Grouping by Age and Calculating Mean Salary:\n",
      "Age\n",
      "25    55000.0\n",
      "30    65000.0\n",
      "35    75000.0\n",
      "40    85000.0\n",
      "Name: Total Salary, dtype: float64\n"
     ]
    }
   ],
   "source": [
    "# 7. Grouping and Aggregating Data\n",
    "# Grouping by a column and calculating the mean\n",
    "print(\"\\nGrouping by Age and Calculating Mean Salary:\")\n",
    "grouped = df.groupby('Age')['Total Salary'].mean()\n",
    "print(grouped)"
   ]
  },
  {
   "cell_type": "code",
   "execution_count": 23,
   "metadata": {},
   "outputs": [
    {
     "name": "stdout",
     "output_type": "stream",
     "text": [
      "\n",
      "Aggregating Mean and Sum of Total Salary:\n",
      "        mean    sum\n",
      "Age                \n",
      "25   55000.0  55000\n",
      "30   65000.0  65000\n",
      "35   75000.0  75000\n",
      "40   85000.0  85000\n"
     ]
    }
   ],
   "source": [
    "# Aggregating multiple functions\n",
    "print(\"\\nAggregating Mean and Sum of Total Salary:\")\n",
    "aggs = df.groupby('Age')['Total Salary'].agg(['mean', 'sum'])\n",
    "print(aggs)"
   ]
  },
  {
   "cell_type": "code",
   "execution_count": 24,
   "metadata": {},
   "outputs": [
    {
     "name": "stdout",
     "output_type": "stream",
     "text": [
      "\n",
      "Sorting by Age:\n",
      "  Employee Name  Age  Total Salary\n",
      "0         Alice   25         55000\n",
      "1           Bob   30         65000\n",
      "2       Charlie   35         75000\n",
      "3         David   40         85000\n"
     ]
    }
   ],
   "source": [
    "\n",
    "# 8. Sorting Data\n",
    "# Sorting by a single column\n",
    "print(\"\\nSorting by Age:\")\n",
    "sorted_df = df.sort_values(by='Age')\n",
    "print(sorted_df)\n"
   ]
  },
  {
   "cell_type": "code",
   "execution_count": 25,
   "metadata": {},
   "outputs": [
    {
     "name": "stdout",
     "output_type": "stream",
     "text": [
      "\n",
      "Sorting by Age and Total Salary:\n",
      "  Employee Name  Age  Total Salary\n",
      "0         Alice   25         55000\n",
      "1           Bob   30         65000\n",
      "2       Charlie   35         75000\n",
      "3         David   40         85000\n"
     ]
    }
   ],
   "source": [
    "\n",
    "# Sorting by multiple columns\n",
    "print(\"\\nSorting by Age and Total Salary:\")\n",
    "sorted_multi_df = df.sort_values(by=['Age', 'Total Salary'], ascending=[True, False])\n",
    "print(sorted_multi_df)\n"
   ]
  },
  {
   "cell_type": "code",
   "execution_count": 26,
   "metadata": {},
   "outputs": [],
   "source": [
    "\n",
    "# 9. Merging and Joining DataFrames\n",
    "# Creating another DataFrame for merging\n",
    "departments = {\n",
    "    'Employee Name': ['Alice', 'Bob', 'Charlie', 'David'],\n",
    "    'Department': ['HR', 'Engineering', 'Marketing', 'Finance']\n",
    "}\n",
    "df_dept = pd.DataFrame(departments)"
   ]
  },
  {
   "cell_type": "code",
   "execution_count": 27,
   "metadata": {},
   "outputs": [
    {
     "name": "stdout",
     "output_type": "stream",
     "text": [
      "\n",
      "Merged DataFrame:\n",
      "  Employee Name  Age  Total Salary   Department\n",
      "0         Alice   25         55000           HR\n",
      "1           Bob   30         65000  Engineering\n",
      "2       Charlie   35         75000    Marketing\n",
      "3         David   40         85000      Finance\n"
     ]
    }
   ],
   "source": [
    "\n",
    "# Merging on 'Employee Name'\n",
    "merged_df = pd.merge(df, df_dept, on='Employee Name')\n",
    "print(\"\\nMerged DataFrame:\")\n",
    "print(merged_df)\n"
   ]
  },
  {
   "cell_type": "code",
   "execution_count": 28,
   "metadata": {},
   "outputs": [
    {
     "name": "stdout",
     "output_type": "stream",
     "text": [
      "\n",
      "DataFrame with Salary Category:\n",
      "  Employee Name  Age  Total Salary Salary Category\n",
      "0         Alice   25         55000             Low\n",
      "1           Bob   30         65000            High\n",
      "2       Charlie   35         75000            High\n",
      "3         David   40         85000            High\n"
     ]
    }
   ],
   "source": [
    "\n",
    "\n",
    "# 10. Applying Functions\n",
    "# Applying a function to a column\n",
    "def categorize_salary(salary):\n",
    "    return 'High' if salary > 60000 else 'Low'\n",
    "\n",
    "df['Salary Category'] = df['Total Salary'].apply(categorize_salary)\n",
    "print(\"\\nDataFrame with Salary Category:\")\n",
    "print(df)"
   ]
  },
  {
   "cell_type": "code",
   "execution_count": 30,
   "metadata": {},
   "outputs": [
    {
     "name": "stdout",
     "output_type": "stream",
     "text": [
      "\n",
      "DataFrame saved to 'output.json'\n"
     ]
    }
   ],
   "source": [
    "\n",
    "# Save DataFrame to JSON\n",
    "df.to_json('output.json', orient='records')\n",
    "print(\"\\nDataFrame saved to 'output.json'\")\n"
   ]
  },
  {
   "cell_type": "code",
   "execution_count": 31,
   "metadata": {},
   "outputs": [
    {
     "name": "stdout",
     "output_type": "stream",
     "text": [
      "\n",
      "DataFrame read from JSON:\n",
      "  Employee Name  Age  Total Salary Salary Category\n",
      "0         Alice   25         55000             Low\n",
      "1           Bob   30         65000            High\n",
      "2       Charlie   35         75000            High\n",
      "3         David   40         85000            High\n"
     ]
    }
   ],
   "source": [
    "# Read DataFrame from JSON\n",
    "json_df = pd.read_json('output.json')\n",
    "print(\"\\nDataFrame read from JSON:\")\n",
    "print(json_df)"
   ]
  },
  {
   "cell_type": "code",
   "execution_count": 32,
   "metadata": {},
   "outputs": [
    {
     "name": "stdout",
     "output_type": "stream",
     "text": [
      "\n",
      "DataFrame after Resetting Index:\n",
      "  Employee Name  Age  Total Salary Salary Category\n",
      "0         Alice   25         55000             Low\n",
      "1           Bob   30         65000            High\n",
      "2       Charlie   35         75000            High\n",
      "3         David   40         85000            High\n"
     ]
    }
   ],
   "source": [
    "\n",
    "\n",
    "# 12. Additional DataFrame Operations\n",
    "# Resetting the index\n",
    "reset_df = df.reset_index(drop=True)\n",
    "print(\"\\nDataFrame after Resetting Index:\")\n",
    "print(reset_df)\n"
   ]
  },
  {
   "cell_type": "code",
   "execution_count": 33,
   "metadata": {},
   "outputs": [
    {
     "name": "stdout",
     "output_type": "stream",
     "text": [
      "\n",
      "DataFrame with 'Employee Name' as Index:\n",
      "               Age  Total Salary Salary Category\n",
      "Employee Name                                   \n",
      "Alice           25         55000             Low\n",
      "Bob             30         65000            High\n",
      "Charlie         35         75000            High\n",
      "David           40         85000            High\n"
     ]
    }
   ],
   "source": [
    "\n",
    "# Setting a column as the index\n",
    "indexed_df = df.set_index('Employee Name')\n",
    "print(\"\\nDataFrame with 'Employee Name' as Index:\")\n",
    "print(indexed_df)\n"
   ]
  },
  {
   "cell_type": "code",
   "execution_count": 34,
   "metadata": {},
   "outputs": [
    {
     "name": "stdout",
     "output_type": "stream",
     "text": [
      "\n",
      "DataFrame after Dropping 'Alice':\n",
      "               Age  Total Salary Salary Category\n",
      "Employee Name                                   \n",
      "Bob             30         65000            High\n",
      "Charlie         35         75000            High\n",
      "David           40         85000            High\n"
     ]
    }
   ],
   "source": [
    "\n",
    "# Dropping rows by index\n",
    "indexed_df_dropped = indexed_df.drop(['Alice'])\n",
    "print(\"\\nDataFrame after Dropping 'Alice':\")\n",
    "print(indexed_df_dropped)\n"
   ]
  }
 ],
 "metadata": {
  "kernelspec": {
   "display_name": "vinnova",
   "language": "python",
   "name": "python3"
  },
  "language_info": {
   "codemirror_mode": {
    "name": "ipython",
    "version": 3
   },
   "file_extension": ".py",
   "mimetype": "text/x-python",
   "name": "python",
   "nbconvert_exporter": "python",
   "pygments_lexer": "ipython3",
   "version": "3.9.21"
  }
 },
 "nbformat": 4,
 "nbformat_minor": 2
}
