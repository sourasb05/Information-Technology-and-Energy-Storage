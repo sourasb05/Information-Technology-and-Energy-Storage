{
 "cells": [
  {
   "cell_type": "markdown",
   "id": "d87503eb",
   "metadata": {},
   "source": [
    "# The Iris Dataset\n",
    "\n",
    "The Iris dataset includes information about three iris species known as Setosa, Versicolor and Virginica. There are 50 instances of each iris species (150 in total). Each instance includes some information about the shape of the flower including **sepal length**, **sepal width**, **petal length** and **petal width**. As a result, our dataset includes 150 data points/record ($X_1$, $X_2$, ..., $X_{150}$) that have 4 features/attributes ($X_i \\in R ^4$) and each input is associated with a class Y = {$Y_1$, $Y_1$, ... ,$Y_{150}$}, where $Y_i \\in \\{Setosa, Versicolor, Virginica\\}$. \n",
    "\n",
    "You can download the Iris dataset from Studium.\n",
    "\n",
    "We want to use KNN classifer to predict the class of unseen records (a new given flower) based on its sepal length, sepal width, petal length and petal width."
   ]
  },
  {
   "cell_type": "markdown",
   "id": "615f40b3",
   "metadata": {},
   "source": [
    "# Libraries that we use\n",
    "We use the following libraries: \n",
    "\n",
    "**- NumPy:** stands for Numerical Python and it is a scientific computing library that provides efficient multi-dimensional array objects and various operations to work with these array objects.\n",
    "\n",
    "**- pandas:** it is a library that is  widely used for data science/data analysis and machine learning tasks. Its power is in working with dataframes.\n",
    "\n",
    "**- Scikit-learn:** it is a data analysis and machine learning library. Most of the wellknown data preprocessig and machine learning methods are implemented in this library.\n",
    "\n",
    "\n",
    "\n",
    "First we import all the libraries that we will need in this asssignment:"
   ]
  },
  {
   "cell_type": "code",
   "execution_count": 1,
   "id": "85807764",
   "metadata": {},
   "outputs": [],
   "source": [
    "import numpy as np\n",
    "import pandas as pd"
   ]
  },
  {
   "cell_type": "markdown",
   "id": "c80d2f2e",
   "metadata": {},
   "source": [
    "## Read data\n",
    "\n",
    "We read the Iris dataset and put it in a pandas dataframe. "
   ]
  },
  {
   "cell_type": "code",
   "execution_count": 2,
   "id": "c2d60231",
   "metadata": {},
   "outputs": [],
   "source": [
    "iris_data = pd.read_csv('Iris.csv')"
   ]
  },
  {
   "cell_type": "markdown",
   "id": "914d13a8",
   "metadata": {},
   "source": [
    "## Summarize dataset\n",
    "\n",
    "\n",
    "Yo can get an idea how many data points/records (rows) and attributes/features (columns) your dataset has with *iris_data.shape()*: "
   ]
  },
  {
   "cell_type": "code",
   "execution_count": 3,
   "id": "0621d6ca",
   "metadata": {},
   "outputs": [
    {
     "name": "stdout",
     "output_type": "stream",
     "text": [
      "(150, 6)\n"
     ]
    }
   ],
   "source": [
    "print(iris_data.shape)"
   ]
  },
  {
   "cell_type": "markdown",
   "id": "4d5e72ae",
   "metadata": {},
   "source": [
    "The *iris_data.head()* command shows the dataset's attributes and the first 5 records:"
   ]
  },
  {
   "cell_type": "code",
   "execution_count": 4,
   "id": "00d7c9e5",
   "metadata": {},
   "outputs": [
    {
     "data": {
      "text/html": [
       "<div>\n",
       "<style scoped>\n",
       "    .dataframe tbody tr th:only-of-type {\n",
       "        vertical-align: middle;\n",
       "    }\n",
       "\n",
       "    .dataframe tbody tr th {\n",
       "        vertical-align: top;\n",
       "    }\n",
       "\n",
       "    .dataframe thead th {\n",
       "        text-align: right;\n",
       "    }\n",
       "</style>\n",
       "<table border=\"1\" class=\"dataframe\">\n",
       "  <thead>\n",
       "    <tr style=\"text-align: right;\">\n",
       "      <th></th>\n",
       "      <th>Id</th>\n",
       "      <th>SepalLengthCm</th>\n",
       "      <th>SepalWidthCm</th>\n",
       "      <th>PetalLengthCm</th>\n",
       "      <th>PetalWidthCm</th>\n",
       "      <th>Species</th>\n",
       "    </tr>\n",
       "  </thead>\n",
       "  <tbody>\n",
       "    <tr>\n",
       "      <th>0</th>\n",
       "      <td>1</td>\n",
       "      <td>5.1</td>\n",
       "      <td>3.5</td>\n",
       "      <td>1.4</td>\n",
       "      <td>0.2</td>\n",
       "      <td>Iris-setosa</td>\n",
       "    </tr>\n",
       "    <tr>\n",
       "      <th>1</th>\n",
       "      <td>2</td>\n",
       "      <td>4.9</td>\n",
       "      <td>3.0</td>\n",
       "      <td>1.4</td>\n",
       "      <td>0.2</td>\n",
       "      <td>Iris-setosa</td>\n",
       "    </tr>\n",
       "    <tr>\n",
       "      <th>2</th>\n",
       "      <td>3</td>\n",
       "      <td>4.7</td>\n",
       "      <td>3.2</td>\n",
       "      <td>1.3</td>\n",
       "      <td>0.2</td>\n",
       "      <td>Iris-setosa</td>\n",
       "    </tr>\n",
       "    <tr>\n",
       "      <th>3</th>\n",
       "      <td>4</td>\n",
       "      <td>4.6</td>\n",
       "      <td>3.1</td>\n",
       "      <td>1.5</td>\n",
       "      <td>0.2</td>\n",
       "      <td>Iris-setosa</td>\n",
       "    </tr>\n",
       "    <tr>\n",
       "      <th>4</th>\n",
       "      <td>5</td>\n",
       "      <td>5.0</td>\n",
       "      <td>3.6</td>\n",
       "      <td>1.4</td>\n",
       "      <td>0.2</td>\n",
       "      <td>Iris-setosa</td>\n",
       "    </tr>\n",
       "  </tbody>\n",
       "</table>\n",
       "</div>"
      ],
      "text/plain": [
       "   Id  SepalLengthCm  SepalWidthCm  PetalLengthCm  PetalWidthCm      Species\n",
       "0   1            5.1           3.5            1.4           0.2  Iris-setosa\n",
       "1   2            4.9           3.0            1.4           0.2  Iris-setosa\n",
       "2   3            4.7           3.2            1.3           0.2  Iris-setosa\n",
       "3   4            4.6           3.1            1.5           0.2  Iris-setosa\n",
       "4   5            5.0           3.6            1.4           0.2  Iris-setosa"
      ]
     },
     "execution_count": 4,
     "metadata": {},
     "output_type": "execute_result"
    }
   ],
   "source": [
    "iris_data.head()"
   ]
  },
  {
   "cell_type": "markdown",
   "id": "c52e085d",
   "metadata": {},
   "source": [
    "The *iris_data.describe()* command returns some statistical summary meaasures for numerical attributes/features:"
   ]
  },
  {
   "cell_type": "code",
   "execution_count": 5,
   "id": "9e438bf9",
   "metadata": {},
   "outputs": [
    {
     "data": {
      "text/html": [
       "<div>\n",
       "<style scoped>\n",
       "    .dataframe tbody tr th:only-of-type {\n",
       "        vertical-align: middle;\n",
       "    }\n",
       "\n",
       "    .dataframe tbody tr th {\n",
       "        vertical-align: top;\n",
       "    }\n",
       "\n",
       "    .dataframe thead th {\n",
       "        text-align: right;\n",
       "    }\n",
       "</style>\n",
       "<table border=\"1\" class=\"dataframe\">\n",
       "  <thead>\n",
       "    <tr style=\"text-align: right;\">\n",
       "      <th></th>\n",
       "      <th>Id</th>\n",
       "      <th>SepalLengthCm</th>\n",
       "      <th>SepalWidthCm</th>\n",
       "      <th>PetalLengthCm</th>\n",
       "      <th>PetalWidthCm</th>\n",
       "    </tr>\n",
       "  </thead>\n",
       "  <tbody>\n",
       "    <tr>\n",
       "      <th>count</th>\n",
       "      <td>150.000000</td>\n",
       "      <td>150.000000</td>\n",
       "      <td>150.000000</td>\n",
       "      <td>150.000000</td>\n",
       "      <td>150.000000</td>\n",
       "    </tr>\n",
       "    <tr>\n",
       "      <th>mean</th>\n",
       "      <td>75.500000</td>\n",
       "      <td>5.843333</td>\n",
       "      <td>3.054000</td>\n",
       "      <td>3.758667</td>\n",
       "      <td>1.198667</td>\n",
       "    </tr>\n",
       "    <tr>\n",
       "      <th>std</th>\n",
       "      <td>43.445368</td>\n",
       "      <td>0.828066</td>\n",
       "      <td>0.433594</td>\n",
       "      <td>1.764420</td>\n",
       "      <td>0.763161</td>\n",
       "    </tr>\n",
       "    <tr>\n",
       "      <th>min</th>\n",
       "      <td>1.000000</td>\n",
       "      <td>4.300000</td>\n",
       "      <td>2.000000</td>\n",
       "      <td>1.000000</td>\n",
       "      <td>0.100000</td>\n",
       "    </tr>\n",
       "    <tr>\n",
       "      <th>25%</th>\n",
       "      <td>38.250000</td>\n",
       "      <td>5.100000</td>\n",
       "      <td>2.800000</td>\n",
       "      <td>1.600000</td>\n",
       "      <td>0.300000</td>\n",
       "    </tr>\n",
       "    <tr>\n",
       "      <th>50%</th>\n",
       "      <td>75.500000</td>\n",
       "      <td>5.800000</td>\n",
       "      <td>3.000000</td>\n",
       "      <td>4.350000</td>\n",
       "      <td>1.300000</td>\n",
       "    </tr>\n",
       "    <tr>\n",
       "      <th>75%</th>\n",
       "      <td>112.750000</td>\n",
       "      <td>6.400000</td>\n",
       "      <td>3.300000</td>\n",
       "      <td>5.100000</td>\n",
       "      <td>1.800000</td>\n",
       "    </tr>\n",
       "    <tr>\n",
       "      <th>max</th>\n",
       "      <td>150.000000</td>\n",
       "      <td>7.900000</td>\n",
       "      <td>4.400000</td>\n",
       "      <td>6.900000</td>\n",
       "      <td>2.500000</td>\n",
       "    </tr>\n",
       "  </tbody>\n",
       "</table>\n",
       "</div>"
      ],
      "text/plain": [
       "               Id  SepalLengthCm  SepalWidthCm  PetalLengthCm  PetalWidthCm\n",
       "count  150.000000     150.000000    150.000000     150.000000    150.000000\n",
       "mean    75.500000       5.843333      3.054000       3.758667      1.198667\n",
       "std     43.445368       0.828066      0.433594       1.764420      0.763161\n",
       "min      1.000000       4.300000      2.000000       1.000000      0.100000\n",
       "25%     38.250000       5.100000      2.800000       1.600000      0.300000\n",
       "50%     75.500000       5.800000      3.000000       4.350000      1.300000\n",
       "75%    112.750000       6.400000      3.300000       5.100000      1.800000\n",
       "max    150.000000       7.900000      4.400000       6.900000      2.500000"
      ]
     },
     "execution_count": 5,
     "metadata": {},
     "output_type": "execute_result"
    }
   ],
   "source": [
    "iris_data.describe()"
   ]
  },
  {
   "cell_type": "markdown",
   "id": "0959f2b8",
   "metadata": {},
   "source": [
    "Now we want to know the number of records (rows) that belong to each class: "
   ]
  },
  {
   "cell_type": "code",
   "execution_count": 6,
   "id": "a60d6870",
   "metadata": {},
   "outputs": [
    {
     "data": {
      "text/plain": [
       "Species\n",
       "Iris-setosa        50\n",
       "Iris-versicolor    50\n",
       "Iris-virginica     50\n",
       "dtype: int64"
      ]
     },
     "execution_count": 6,
     "metadata": {},
     "output_type": "execute_result"
    }
   ],
   "source": [
    "iris_data.groupby('Species').size()"
   ]
  },
  {
   "cell_type": "markdown",
   "id": "e4e0982e",
   "metadata": {},
   "source": [
    "## Drop *id*\n",
    "\n",
    "You can see that the dataframe includes an attribute called **id** that has to be removed from the dataframe as it does not have any role in our task."
   ]
  },
  {
   "cell_type": "code",
   "execution_count": 7,
   "id": "6b4a7294",
   "metadata": {},
   "outputs": [
    {
     "data": {
      "text/html": [
       "<div>\n",
       "<style scoped>\n",
       "    .dataframe tbody tr th:only-of-type {\n",
       "        vertical-align: middle;\n",
       "    }\n",
       "\n",
       "    .dataframe tbody tr th {\n",
       "        vertical-align: top;\n",
       "    }\n",
       "\n",
       "    .dataframe thead th {\n",
       "        text-align: right;\n",
       "    }\n",
       "</style>\n",
       "<table border=\"1\" class=\"dataframe\">\n",
       "  <thead>\n",
       "    <tr style=\"text-align: right;\">\n",
       "      <th></th>\n",
       "      <th>SepalLengthCm</th>\n",
       "      <th>SepalWidthCm</th>\n",
       "      <th>PetalLengthCm</th>\n",
       "      <th>PetalWidthCm</th>\n",
       "      <th>Species</th>\n",
       "    </tr>\n",
       "  </thead>\n",
       "  <tbody>\n",
       "    <tr>\n",
       "      <th>0</th>\n",
       "      <td>5.1</td>\n",
       "      <td>3.5</td>\n",
       "      <td>1.4</td>\n",
       "      <td>0.2</td>\n",
       "      <td>Iris-setosa</td>\n",
       "    </tr>\n",
       "    <tr>\n",
       "      <th>1</th>\n",
       "      <td>4.9</td>\n",
       "      <td>3.0</td>\n",
       "      <td>1.4</td>\n",
       "      <td>0.2</td>\n",
       "      <td>Iris-setosa</td>\n",
       "    </tr>\n",
       "    <tr>\n",
       "      <th>2</th>\n",
       "      <td>4.7</td>\n",
       "      <td>3.2</td>\n",
       "      <td>1.3</td>\n",
       "      <td>0.2</td>\n",
       "      <td>Iris-setosa</td>\n",
       "    </tr>\n",
       "    <tr>\n",
       "      <th>3</th>\n",
       "      <td>4.6</td>\n",
       "      <td>3.1</td>\n",
       "      <td>1.5</td>\n",
       "      <td>0.2</td>\n",
       "      <td>Iris-setosa</td>\n",
       "    </tr>\n",
       "    <tr>\n",
       "      <th>4</th>\n",
       "      <td>5.0</td>\n",
       "      <td>3.6</td>\n",
       "      <td>1.4</td>\n",
       "      <td>0.2</td>\n",
       "      <td>Iris-setosa</td>\n",
       "    </tr>\n",
       "  </tbody>\n",
       "</table>\n",
       "</div>"
      ],
      "text/plain": [
       "   SepalLengthCm  SepalWidthCm  PetalLengthCm  PetalWidthCm      Species\n",
       "0            5.1           3.5            1.4           0.2  Iris-setosa\n",
       "1            4.9           3.0            1.4           0.2  Iris-setosa\n",
       "2            4.7           3.2            1.3           0.2  Iris-setosa\n",
       "3            4.6           3.1            1.5           0.2  Iris-setosa\n",
       "4            5.0           3.6            1.4           0.2  Iris-setosa"
      ]
     },
     "execution_count": 7,
     "metadata": {},
     "output_type": "execute_result"
    }
   ],
   "source": [
    "iris_data.drop(['Id'],axis=1,inplace=True)\n",
    "iris_data.head()"
   ]
  },
  {
   "cell_type": "markdown",
   "id": "64fe24ea",
   "metadata": {},
   "source": [
    "## Separate X, Y into different dataframes\n",
    "\n",
    "As you saw, records (X) and classes (Y) are in the same dataframe. We put them into separate dataframes."
   ]
  },
  {
   "cell_type": "code",
   "execution_count": 8,
   "id": "9703b027",
   "metadata": {},
   "outputs": [],
   "source": [
    "X = iris_data.drop([\"Species\"],axis=1).values\n",
    "Y = iris_data[\"Species\"].values"
   ]
  },
  {
   "cell_type": "markdown",
   "id": "cbc6e0df",
   "metadata": {},
   "source": [
    "## Encoding The Attributes of The Target Column\n",
    "\n",
    "As we can see labels are categorical. KNeighborsClassifier that we will use later on does not accept string labels. We need to use LabelEncoder to transform them into numbers. Iris-setosa correspond to 0, Iris-versicolor correspond to 1 and Iris-virginica correspond to 2.\n"
   ]
  },
  {
   "cell_type": "code",
   "execution_count": 9,
   "id": "e61f0826",
   "metadata": {},
   "outputs": [],
   "source": [
    "from sklearn.preprocessing import LabelEncoder\n",
    "le = LabelEncoder()\n",
    "Y = le.fit_transform(Y)"
   ]
  },
  {
   "cell_type": "markdown",
   "id": "2ec5b378",
   "metadata": {},
   "source": [
    "## Split the data set into training and testing\n",
    "\n",
    "As we discussed before, we have o check if our classifier works correctly or not. Therefore, we extract 20% of our data points (20% of 150 is 30) and keep them to test the classifier."
   ]
  },
  {
   "cell_type": "code",
   "execution_count": 10,
   "id": "95e4fd29",
   "metadata": {},
   "outputs": [],
   "source": [
    "from sklearn.model_selection import train_test_split\n",
    "\n",
    "X_train, X_test, Y_train, Y_test = train_test_split(X, Y, test_size=0.2, random_state=23)"
   ]
  },
  {
   "cell_type": "markdown",
   "id": "694c7bb5",
   "metadata": {},
   "source": [
    "## Using Random Forest for classification"
   ]
  },
  {
   "cell_type": "code",
   "execution_count": 11,
   "id": "65e19aa6",
   "metadata": {},
   "outputs": [],
   "source": [
    "from sklearn.ensemble import RandomForestClassifier\n",
    "from sklearn.metrics import accuracy_score\n",
    "\n",
    "# Instantiate the model \n",
    "classifier = RandomForestClassifier(n_estimators=200, max_depth = 2, max_features = 2)      \n",
    "\n",
    "# n_estimators = the number of trees\n",
    "# max_depth = the maximum depth of the tree.\n",
    "# max_features = the number of features to consider when looking for the best split\n",
    "\n",
    "\n",
    "# Training the model\n",
    "classifier.fit(X_train,Y_train)\n",
    "\n",
    "\n",
    "# Predicting the Test set results\n",
    "Y_pred = classifier.predict(X_test)\n"
   ]
  },
  {
   "cell_type": "markdown",
   "id": "6e2c5f59",
   "metadata": {},
   "source": [
    "## Evaluating the classifier\n",
    "\n",
    "We will discuss evaluation metrics later on in this session."
   ]
  },
  {
   "cell_type": "code",
   "execution_count": 12,
   "id": "6cc9b046",
   "metadata": {},
   "outputs": [
    {
     "name": "stdout",
     "output_type": "stream",
     "text": [
      "Accuracy of our model is equal 100.0 %.\n"
     ]
    }
   ],
   "source": [
    "accuracy = accuracy_score(Y_test, Y_pred)*100\n",
    "print('Accuracy of our model is equal ' + str(round(accuracy, 2)) + ' %.')"
   ]
  },
  {
   "cell_type": "code",
   "execution_count": 13,
   "id": "0350f5e3",
   "metadata": {},
   "outputs": [
    {
     "data": {
      "image/png": "[encoded data removed]",
      "text/plain": [
       "<Figure size 640x480 with 2 Axes>"
      ]
     },
     "metadata": {},
     "output_type": "display_data"
    }
   ],
   "source": [
    "from sklearn.metrics import confusion_matrix\n",
    "from sklearn.metrics import classification_report\n",
    "import seaborn as sns\n",
    "import matplotlib.pyplot as plt\n",
    "\n",
    "\n",
    "cm = confusion_matrix(Y_test, Y_pred)\n",
    "\n",
    "cm_df = pd.DataFrame(cm,\n",
    "                     index = ['SETOSA','VERSICOLR','VIRGINICA'], \n",
    "                     columns = ['SETOSA','VERSICOLR','VIRGINICA'])\n",
    "\n",
    "sns.heatmap(cm_df, annot=True)\n",
    "plt.title('Confusion Matrix')\n",
    "plt.ylabel('Actal Values')\n",
    "plt.xlabel('Predicted Values')\n",
    "plt.show()"
   ]
  },
  {
   "cell_type": "code",
   "execution_count": 14,
   "id": "f9ec9519",
   "metadata": {},
   "outputs": [
    {
     "name": "stdout",
     "output_type": "stream",
     "text": [
      "              precision    recall  f1-score   support\n",
      "\n",
      "           0     1.0000    1.0000    1.0000        12\n",
      "           1     1.0000    1.0000    1.0000         8\n",
      "           2     1.0000    1.0000    1.0000        10\n",
      "\n",
      "    accuracy                         1.0000        30\n",
      "   macro avg     1.0000    1.0000    1.0000        30\n",
      "weighted avg     1.0000    1.0000    1.0000        30\n",
      "\n"
     ]
    }
   ],
   "source": [
    "print(classification_report(Y_test, Y_pred,  digits=4))"
   ]
  },
  {
   "cell_type": "code",
   "execution_count": null,
   "id": "b03333b0",
   "metadata": {},
   "outputs": [],
   "source": []
  }
 ],
 "metadata": {
  "kernelspec": {
   "display_name": "vinnova",
   "language": "python",
   "name": "python3"
  },
  "language_info": {
   "codemirror_mode": {
    "name": "ipython",
    "version": 3
   },
   "file_extension": ".py",
   "mimetype": "text/x-python",
   "name": "python",
   "nbconvert_exporter": "python",
   "pygments_lexer": "ipython3",
   "version": "3.9.21"
  }
 },
 "nbformat": 4,
 "nbformat_minor": 5
}
